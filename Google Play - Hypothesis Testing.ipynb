{
 "cells": [
  {
   "cell_type": "markdown",
   "id": "df5f794d",
   "metadata": {},
   "source": [
    "# Google Play Hypothesis Testing\n",
    "by Giancarlo Marchesi"
   ]
  },
  {
   "cell_type": "markdown",
   "id": "04e84c73",
   "metadata": {},
   "source": [
    "The objective of this project is to highlight some specific characteristics of the most popular apps by rating at Google Play Store. \n",
    "\n",
    "I aim to answer the following questions:\n",
    "\n",
    "- Are paid apps better rated than free apps?\n",
    "- Are highly popular apps, in terms of downloads, better rated than less popular apps?\n",
    "- Is the highest rated category statistically better than the rest?\n",
    "\n",
    "For this I will use hypothesis testing using a two-sample unpaired T-test.\n",
    "\n",
    "The data was obtained from Kaggle https://www.kaggle.com/datasets/lava18/google-play-store-apps\n",
    "and cleaned in the notebook `DataCleaning_GooglePlay`. It is a sample of ratings from the Google Play Store between 2016 and 2018.  "
   ]
  },
  {
   "cell_type": "code",
   "execution_count": 1,
   "id": "78129e29",
   "metadata": {},
   "outputs": [],
   "source": [
    "import numpy as np\n",
    "import pandas as pd\n",
    "import matplotlib.pyplot as plt\n",
    "\n",
    "from scipy import stats\n",
    "from scipy.stats import norm #used for plotting"
   ]
  },
  {
   "cell_type": "code",
   "execution_count": 2,
   "id": "d7bc8292",
   "metadata": {},
   "outputs": [],
   "source": [
    "df=pd.read_csv('google_play_clean.csv')"
   ]
  },
  {
   "cell_type": "code",
   "execution_count": 3,
   "id": "643730d7",
   "metadata": {},
   "outputs": [
    {
     "data": {
      "text/html": [
       "<div>\n",
       "<style scoped>\n",
       "    .dataframe tbody tr th:only-of-type {\n",
       "        vertical-align: middle;\n",
       "    }\n",
       "\n",
       "    .dataframe tbody tr th {\n",
       "        vertical-align: top;\n",
       "    }\n",
       "\n",
       "    .dataframe thead th {\n",
       "        text-align: right;\n",
       "    }\n",
       "</style>\n",
       "<table border=\"1\" class=\"dataframe\">\n",
       "  <thead>\n",
       "    <tr style=\"text-align: right;\">\n",
       "      <th></th>\n",
       "      <th>App</th>\n",
       "      <th>Category</th>\n",
       "      <th>Rating</th>\n",
       "      <th>Reviews</th>\n",
       "      <th>Size</th>\n",
       "      <th>Installs</th>\n",
       "      <th>Type</th>\n",
       "      <th>Content Rating</th>\n",
       "      <th>Genres</th>\n",
       "      <th>Last Updated</th>\n",
       "      <th>Current Ver</th>\n",
       "      <th>Android Ver</th>\n",
       "      <th>Price</th>\n",
       "      <th>Popularity</th>\n",
       "      <th>Cat_Reviews</th>\n",
       "      <th>Cat_Content</th>\n",
       "    </tr>\n",
       "  </thead>\n",
       "  <tbody>\n",
       "    <tr>\n",
       "      <th>0</th>\n",
       "      <td>Weather Live</td>\n",
       "      <td>WEATHER</td>\n",
       "      <td>4.5</td>\n",
       "      <td>76593.0</td>\n",
       "      <td>Varies with device</td>\n",
       "      <td>500,000+</td>\n",
       "      <td>Paid</td>\n",
       "      <td>Everyone</td>\n",
       "      <td>WEATHER</td>\n",
       "      <td>November 21, 2017</td>\n",
       "      <td>Varies with device</td>\n",
       "      <td>Varies with device</td>\n",
       "      <td>5.99</td>\n",
       "      <td>Medium</td>\n",
       "      <td>Stable</td>\n",
       "      <td>Everyone</td>\n",
       "    </tr>\n",
       "    <tr>\n",
       "      <th>1</th>\n",
       "      <td>Weather by WeatherBug: Forecast</td>\n",
       "      <td>WEATHER</td>\n",
       "      <td>4.5</td>\n",
       "      <td>981995.0</td>\n",
       "      <td>Varies with device</td>\n",
       "      <td>10,000,000+</td>\n",
       "      <td>Free</td>\n",
       "      <td>Everyone</td>\n",
       "      <td>WEATHER</td>\n",
       "      <td>June 7, 2018</td>\n",
       "      <td>Varies with device</td>\n",
       "      <td>Varies with device</td>\n",
       "      <td>0.00</td>\n",
       "      <td>Large</td>\n",
       "      <td>Stable</td>\n",
       "      <td>Everyone</td>\n",
       "    </tr>\n",
       "    <tr>\n",
       "      <th>2</th>\n",
       "      <td>SMHI Weather</td>\n",
       "      <td>WEATHER</td>\n",
       "      <td>3.5</td>\n",
       "      <td>11297.0</td>\n",
       "      <td>Varies with device</td>\n",
       "      <td>1,000,000+</td>\n",
       "      <td>Free</td>\n",
       "      <td>Everyone</td>\n",
       "      <td>WEATHER</td>\n",
       "      <td>June 26, 2018</td>\n",
       "      <td>Varies with device</td>\n",
       "      <td>Varies with device</td>\n",
       "      <td>0.00</td>\n",
       "      <td>Large</td>\n",
       "      <td>Stable</td>\n",
       "      <td>Everyone</td>\n",
       "    </tr>\n",
       "    <tr>\n",
       "      <th>3</th>\n",
       "      <td>Storm Radar: Tornado Tracker &amp; Hurricane Alerts</td>\n",
       "      <td>WEATHER</td>\n",
       "      <td>4.6</td>\n",
       "      <td>89868.0</td>\n",
       "      <td>Varies with device</td>\n",
       "      <td>1,000,000+</td>\n",
       "      <td>Free</td>\n",
       "      <td>Everyone</td>\n",
       "      <td>WEATHER</td>\n",
       "      <td>June 12, 2018</td>\n",
       "      <td>Varies with device</td>\n",
       "      <td>Varies with device</td>\n",
       "      <td>0.00</td>\n",
       "      <td>Large</td>\n",
       "      <td>Stable</td>\n",
       "      <td>Everyone</td>\n",
       "    </tr>\n",
       "    <tr>\n",
       "      <th>4</th>\n",
       "      <td>Weather From DMI/YR</td>\n",
       "      <td>WEATHER</td>\n",
       "      <td>4.3</td>\n",
       "      <td>2143.0</td>\n",
       "      <td>Varies with device</td>\n",
       "      <td>100,000+</td>\n",
       "      <td>Free</td>\n",
       "      <td>Everyone</td>\n",
       "      <td>WEATHER</td>\n",
       "      <td>July 31, 2018</td>\n",
       "      <td>Varies with device</td>\n",
       "      <td>Varies with device</td>\n",
       "      <td>0.00</td>\n",
       "      <td>Medium</td>\n",
       "      <td>Medium</td>\n",
       "      <td>Everyone</td>\n",
       "    </tr>\n",
       "  </tbody>\n",
       "</table>\n",
       "</div>"
      ],
      "text/plain": [
       "                                               App Category  Rating   Reviews  \\\n",
       "0                                     Weather Live  WEATHER     4.5   76593.0   \n",
       "1                  Weather by WeatherBug: Forecast  WEATHER     4.5  981995.0   \n",
       "2                                     SMHI Weather  WEATHER     3.5   11297.0   \n",
       "3  Storm Radar: Tornado Tracker & Hurricane Alerts  WEATHER     4.6   89868.0   \n",
       "4                              Weather From DMI/YR  WEATHER     4.3    2143.0   \n",
       "\n",
       "                 Size     Installs  Type Content Rating   Genres  \\\n",
       "0  Varies with device     500,000+  Paid       Everyone  WEATHER   \n",
       "1  Varies with device  10,000,000+  Free       Everyone  WEATHER   \n",
       "2  Varies with device   1,000,000+  Free       Everyone  WEATHER   \n",
       "3  Varies with device   1,000,000+  Free       Everyone  WEATHER   \n",
       "4  Varies with device     100,000+  Free       Everyone  WEATHER   \n",
       "\n",
       "        Last Updated         Current Ver         Android Ver  Price  \\\n",
       "0  November 21, 2017  Varies with device  Varies with device   5.99   \n",
       "1       June 7, 2018  Varies with device  Varies with device   0.00   \n",
       "2      June 26, 2018  Varies with device  Varies with device   0.00   \n",
       "3      June 12, 2018  Varies with device  Varies with device   0.00   \n",
       "4      July 31, 2018  Varies with device  Varies with device   0.00   \n",
       "\n",
       "  Popularity Cat_Reviews Cat_Content  \n",
       "0     Medium      Stable    Everyone  \n",
       "1      Large      Stable    Everyone  \n",
       "2      Large      Stable    Everyone  \n",
       "3      Large      Stable    Everyone  \n",
       "4     Medium      Medium    Everyone  "
      ]
     },
     "execution_count": 3,
     "metadata": {},
     "output_type": "execute_result"
    }
   ],
   "source": [
    "df.head()"
   ]
  },
  {
   "cell_type": "code",
   "execution_count": 55,
   "id": "d62f651a",
   "metadata": {},
   "outputs": [
    {
     "name": "stdout",
     "output_type": "stream",
     "text": [
      "<class 'pandas.core.frame.DataFrame'>\n",
      "RangeIndex: 8895 entries, 0 to 8894\n",
      "Data columns (total 16 columns):\n",
      " #   Column          Non-Null Count  Dtype  \n",
      "---  ------          --------------  -----  \n",
      " 0   App             8895 non-null   object \n",
      " 1   Category        8895 non-null   object \n",
      " 2   Rating          8895 non-null   float64\n",
      " 3   Reviews         8894 non-null   float64\n",
      " 4   Size            8895 non-null   object \n",
      " 5   Installs        8895 non-null   object \n",
      " 6   Type            8895 non-null   object \n",
      " 7   Content Rating  8895 non-null   object \n",
      " 8   Genres          8894 non-null   object \n",
      " 9   Last Updated    8440 non-null   object \n",
      " 10  Current Ver     8428 non-null   object \n",
      " 11  Android Ver     8396 non-null   object \n",
      " 12  Price           8895 non-null   float64\n",
      " 13  Popularity      8895 non-null   object \n",
      " 14  Cat_Reviews     8895 non-null   object \n",
      " 15  Cat_Content     8895 non-null   object \n",
      "dtypes: float64(3), object(13)\n",
      "memory usage: 1.1+ MB\n"
     ]
    }
   ],
   "source": [
    "df.info()"
   ]
  },
  {
   "cell_type": "markdown",
   "id": "8acff9a5",
   "metadata": {},
   "source": [
    "The df holds information for 8895 different apps (this was tested in DataCleaning_GooglePlay)\n",
    "\n",
    "There are only three numerical variables: `Rating`, `Reviews` and `Price`"
   ]
  },
  {
   "cell_type": "code",
   "execution_count": 56,
   "id": "07f44d83",
   "metadata": {},
   "outputs": [
    {
     "data": {
      "text/html": [
       "<div>\n",
       "<style scoped>\n",
       "    .dataframe tbody tr th:only-of-type {\n",
       "        vertical-align: middle;\n",
       "    }\n",
       "\n",
       "    .dataframe tbody tr th {\n",
       "        vertical-align: top;\n",
       "    }\n",
       "\n",
       "    .dataframe thead th {\n",
       "        text-align: right;\n",
       "    }\n",
       "</style>\n",
       "<table border=\"1\" class=\"dataframe\">\n",
       "  <thead>\n",
       "    <tr style=\"text-align: right;\">\n",
       "      <th></th>\n",
       "      <th>Rating</th>\n",
       "      <th>Reviews</th>\n",
       "      <th>Price</th>\n",
       "    </tr>\n",
       "  </thead>\n",
       "  <tbody>\n",
       "    <tr>\n",
       "      <th>count</th>\n",
       "      <td>8895.000000</td>\n",
       "      <td>8.894000e+03</td>\n",
       "      <td>8895.000000</td>\n",
       "    </tr>\n",
       "    <tr>\n",
       "      <th>mean</th>\n",
       "      <td>4.187589</td>\n",
       "      <td>4.726703e+05</td>\n",
       "      <td>0.963278</td>\n",
       "    </tr>\n",
       "    <tr>\n",
       "      <th>std</th>\n",
       "      <td>0.522856</td>\n",
       "      <td>2.904734e+06</td>\n",
       "      <td>16.186649</td>\n",
       "    </tr>\n",
       "    <tr>\n",
       "      <th>min</th>\n",
       "      <td>1.000000</td>\n",
       "      <td>1.000000e+00</td>\n",
       "      <td>0.000000</td>\n",
       "    </tr>\n",
       "    <tr>\n",
       "      <th>25%</th>\n",
       "      <td>4.000000</td>\n",
       "      <td>1.640000e+02</td>\n",
       "      <td>0.000000</td>\n",
       "    </tr>\n",
       "    <tr>\n",
       "      <th>50%</th>\n",
       "      <td>4.300000</td>\n",
       "      <td>4.708000e+03</td>\n",
       "      <td>0.000000</td>\n",
       "    </tr>\n",
       "    <tr>\n",
       "      <th>75%</th>\n",
       "      <td>4.500000</td>\n",
       "      <td>7.119725e+04</td>\n",
       "      <td>0.000000</td>\n",
       "    </tr>\n",
       "    <tr>\n",
       "      <th>max</th>\n",
       "      <td>5.000000</td>\n",
       "      <td>7.815831e+07</td>\n",
       "      <td>400.000000</td>\n",
       "    </tr>\n",
       "  </tbody>\n",
       "</table>\n",
       "</div>"
      ],
      "text/plain": [
       "            Rating       Reviews        Price\n",
       "count  8895.000000  8.894000e+03  8895.000000\n",
       "mean      4.187589  4.726703e+05     0.963278\n",
       "std       0.522856  2.904734e+06    16.186649\n",
       "min       1.000000  1.000000e+00     0.000000\n",
       "25%       4.000000  1.640000e+02     0.000000\n",
       "50%       4.300000  4.708000e+03     0.000000\n",
       "75%       4.500000  7.119725e+04     0.000000\n",
       "max       5.000000  7.815831e+07   400.000000"
      ]
     },
     "execution_count": 56,
     "metadata": {},
     "output_type": "execute_result"
    }
   ],
   "source": [
    "df.describe()"
   ]
  },
  {
   "cell_type": "markdown",
   "id": "f0890889",
   "metadata": {},
   "source": [
    "There are two other important categorical variables for the analysis. "
   ]
  },
  {
   "cell_type": "code",
   "execution_count": 58,
   "id": "4517100d",
   "metadata": {},
   "outputs": [
    {
     "data": {
      "text/plain": [
       "Free    8281\n",
       "Paid     614\n",
       "Name: Type, dtype: int64"
      ]
     },
     "execution_count": 58,
     "metadata": {},
     "output_type": "execute_result"
    }
   ],
   "source": [
    "df['Type'].value_counts()"
   ]
  },
  {
   "cell_type": "markdown",
   "id": "b3ebd32e",
   "metadata": {},
   "source": [
    "The feature `Type` is either Paid or Free. By definition, \"Free\" has a price of zero. Any type of marginal analysis of the effect of price on ratings could be done with a linear regression. Yet, a hypothesis test can tell if the average rating between Free and Paid is differente. A priori, the hypothesis would be that this is so. The reasoning would be that paid apps are, on average, more polished since part of their business model is related to revenue from installations. "
   ]
  },
  {
   "cell_type": "code",
   "execution_count": 57,
   "id": "16e07b22",
   "metadata": {
    "scrolled": true
   },
   "outputs": [
    {
     "data": {
      "text/plain": [
       "Large      3301\n",
       "Small      3216\n",
       "Medium     1627\n",
       "Unicorn     751\n",
       "Name: Popularity, dtype: int64"
      ]
     },
     "execution_count": 57,
     "metadata": {},
     "output_type": "execute_result"
    }
   ],
   "source": [
    "df['Popularity'].value_counts()"
   ]
  },
  {
   "cell_type": "markdown",
   "id": "42dcdf97",
   "metadata": {},
   "source": [
    "`Popularity` has grouped `Installs` into four groups. The groups with most installs are \"Large\" and \"Unicorn\", and the ones with less installs are \"Small\" and \"Medium\". The hypothesis here would be that first group has higher ratings, that's why they get more installs.  "
   ]
  },
  {
   "cell_type": "markdown",
   "id": "a364dffb",
   "metadata": {},
   "source": [
    "## Are paid apps better rated than free apps?"
   ]
  },
  {
   "cell_type": "markdown",
   "id": "56a30f87",
   "metadata": {},
   "source": [
    "The mean difference, or difference in means, measures the absolute difference between the mean value in two different groups. We want to check if the average rating for Paid apps is higher than that of Free apps. \n",
    "\n",
    "We can test this hypothesis by using a T-test to check the differences in means for the ratings of both groups.  \n",
    "\n",
    "Hypothesis Test:\n",
    "\n",
    "<center> $H_0$: $\\mu_{Paid} = \\mu_{Free} $ $\\;\\; vs \\;\\;$  $H_1$: $\\mu_{Paid} \\neq \\mu_{Free} $ </center>\n",
    "\n",
    "The null hypothesis states that there are no differences in the average rating.  "
   ]
  },
  {
   "cell_type": "code",
   "execution_count": 6,
   "id": "25f43333",
   "metadata": {},
   "outputs": [],
   "source": [
    "## Creating the Paid array\n",
    "Paid=df[df['Type']=='Paid']['Rating']"
   ]
  },
  {
   "cell_type": "code",
   "execution_count": 7,
   "id": "38e7eec9",
   "metadata": {},
   "outputs": [
    {
     "data": {
      "text/plain": [
       "0       4.5\n",
       "29      4.5\n",
       "36      4.8\n",
       "53      3.8\n",
       "54      4.5\n",
       "       ... \n",
       "8714    4.1\n",
       "8761    4.6\n",
       "8848    4.7\n",
       "8851    4.7\n",
       "8856    4.8\n",
       "Name: Rating, Length: 614, dtype: float64"
      ]
     },
     "execution_count": 7,
     "metadata": {},
     "output_type": "execute_result"
    }
   ],
   "source": [
    "Paid"
   ]
  },
  {
   "cell_type": "code",
   "execution_count": 14,
   "id": "0f9953c1",
   "metadata": {},
   "outputs": [
    {
     "data": {
      "text/plain": [
       "614"
      ]
     },
     "execution_count": 14,
     "metadata": {},
     "output_type": "execute_result"
    }
   ],
   "source": [
    "## Only 614 observations\n",
    "Paid.count()"
   ]
  },
  {
   "cell_type": "code",
   "execution_count": 15,
   "id": "9cfc104f",
   "metadata": {},
   "outputs": [
    {
     "data": {
      "text/plain": [
       "4.2610749185667744"
      ]
     },
     "execution_count": 15,
     "metadata": {},
     "output_type": "execute_result"
    }
   ],
   "source": [
    "## With a mean of 4.26\n",
    "Paid.mean()"
   ]
  },
  {
   "cell_type": "code",
   "execution_count": 8,
   "id": "6043b494",
   "metadata": {},
   "outputs": [],
   "source": [
    "## Creating the Free array\n",
    "Free=df[df['Type']=='Free']['Rating']"
   ]
  },
  {
   "cell_type": "code",
   "execution_count": 59,
   "id": "bab34b20",
   "metadata": {},
   "outputs": [
    {
     "data": {
      "text/plain": [
       "8281"
      ]
     },
     "execution_count": 59,
     "metadata": {},
     "output_type": "execute_result"
    }
   ],
   "source": [
    "## 8281 observations \n",
    "Free.count()"
   ]
  },
  {
   "cell_type": "code",
   "execution_count": 16,
   "id": "ad4e1ccf",
   "metadata": {},
   "outputs": [
    {
     "data": {
      "text/plain": [
       "4.182139838183784"
      ]
     },
     "execution_count": 16,
     "metadata": {},
     "output_type": "execute_result"
    }
   ],
   "source": [
    "## With a mean of 4.18\n",
    "Free.mean()"
   ]
  },
  {
   "cell_type": "code",
   "execution_count": 17,
   "id": "077cc679",
   "metadata": {},
   "outputs": [
    {
     "name": "stdout",
     "output_type": "stream",
     "text": [
      "Ttest_indResult(statistic=3.611887813009232, pvalue=0.00030565119974159126)\n"
     ]
    }
   ],
   "source": [
    "# we can use the built in function: ttest_ind\n",
    "two_sample_test = stats.ttest_ind(Paid, Free) \n",
    "\n",
    "print(two_sample_test)"
   ]
  },
  {
   "cell_type": "markdown",
   "id": "b8e84cd6",
   "metadata": {},
   "source": [
    "The results indicate that the pvalue is below the 0.05 threshold. Therefore we can reject the null hypothesis that the means between Paid and Free are differente. As we calculated before, the mean for Paid is 0.08 higher. But lets take a look at the assumptions of two sample unpaired t-Test"
   ]
  },
  {
   "cell_type": "markdown",
   "id": "78e51ff2",
   "metadata": {},
   "source": [
    "**Assumptions of the Two-Sample Independent (Unpaired) t-Test**\n",
    "- Data points in each group are independent of each other: they are. The rating of one app should not affect anothers. \n",
    "- The means of both samples come from a normal sampling distribution:\n",
    "    - Either the samples themselves are normally distributed (the populations are normally distributed)\n",
    "            As we can see in the histograms below, they are not normally distributed, but left skewed. \n",
    "    - Or the samples are large enough that the CLT guarantees the sampling distributions are approximately normal\n",
    "            This is a point of contention in the case of Paid apps, which has only 7.5% of the amount of observations in          the Free group. The test is unbalanced. \n",
    "- Data in group A are independent from data in group B: They can't be paid and free at the same time.  \n",
    "- Variances of both populations are identical. \n",
    "             This cannot be tested with the information at hand. "
   ]
  },
  {
   "cell_type": "code",
   "execution_count": 60,
   "id": "c0f4dcf9",
   "metadata": {},
   "outputs": [
    {
     "data": {
      "image/png": "[encoded data removed]",
      "text/plain": [
       "<Figure size 432x288 with 1 Axes>"
      ]
     },
     "metadata": {
      "needs_background": "light"
     },
     "output_type": "display_data"
    }
   ],
   "source": [
    "plt.figure()\n",
    "plt.hist(Free, bins=8)\n",
    "plt.title('Histogram fo Free Ratings')\n",
    "plt.show;"
   ]
  },
  {
   "cell_type": "code",
   "execution_count": 63,
   "id": "4fcd98d0",
   "metadata": {},
   "outputs": [
    {
     "data": {
      "image/png": "[encoded data removed]",
      "text/plain": [
       "<Figure size 432x288 with 1 Axes>"
      ]
     },
     "metadata": {
      "needs_background": "light"
     },
     "output_type": "display_data"
    }
   ],
   "source": [
    "plt.figure()\n",
    "plt.hist(Paid, bins=8)\n",
    "plt.title('Histogram of Paid Ratings')\n",
    "plt.show;"
   ]
  },
  {
   "cell_type": "raw",
   "id": "407e0c8d",
   "metadata": {},
   "source": [
    "Hence, our answer her has to be caveated. If we had more observations for paid ratings so the central limit theorem would hold, I would be more comfortable with the robustness of the results.  "
   ]
  },
  {
   "cell_type": "markdown",
   "id": "2cc427d6",
   "metadata": {},
   "source": [
    "## Are highly popular apps, in terms of `installs`, better rated than less popular apps?"
   ]
  },
  {
   "cell_type": "markdown",
   "id": "471e97c6",
   "metadata": {},
   "source": [
    "**Hypothesis Test:**\n",
    "\n",
    "<center> $H_0$: $\\mu_{Highpop} = \\mu_{Lowpop} $ $\\;\\; vs \\;\\;$  $H_1$: $\\mu_{Highpop} \\neq \\mu_{Lowpop} $ </center>\n",
    "\n",
    "The null hypothesis states that there are no differences in the average rating between higly popular an less popular apps "
   ]
  },
  {
   "cell_type": "code",
   "execution_count": 77,
   "id": "eb5a10d4",
   "metadata": {},
   "outputs": [],
   "source": [
    "## Create a highly popular group\n",
    "High_pop=df[(df['Popularity']=='Large') | (df['Popularity']=='Unicorn')]['Rating']"
   ]
  },
  {
   "cell_type": "code",
   "execution_count": 68,
   "id": "57be25f7",
   "metadata": {},
   "outputs": [
    {
     "data": {
      "text/plain": [
       "4052"
      ]
     },
     "execution_count": 68,
     "metadata": {},
     "output_type": "execute_result"
    }
   ],
   "source": [
    "## 4053 observations\n",
    "High_pop.count()"
   ]
  },
  {
   "cell_type": "code",
   "execution_count": 70,
   "id": "491f1456",
   "metadata": {},
   "outputs": [
    {
     "data": {
      "text/plain": [
       "4.277171767028626"
      ]
     },
     "execution_count": 70,
     "metadata": {},
     "output_type": "execute_result"
    }
   ],
   "source": [
    "## with a mean rating of 4.27 \n",
    "High_pop.mean()"
   ]
  },
  {
   "cell_type": "code",
   "execution_count": 72,
   "id": "85b16695",
   "metadata": {},
   "outputs": [],
   "source": [
    "## Creat a lower popularity group\n",
    "Low_pop=df[(df['Popularity']=='Small') | (df['Popularity']=='Medium')]['Rating']"
   ]
  },
  {
   "cell_type": "code",
   "execution_count": 73,
   "id": "405a7b7a",
   "metadata": {},
   "outputs": [
    {
     "data": {
      "text/plain": [
       "4843"
      ]
     },
     "execution_count": 73,
     "metadata": {},
     "output_type": "execute_result"
    }
   ],
   "source": [
    "Low_pop.count()"
   ]
  },
  {
   "cell_type": "code",
   "execution_count": 74,
   "id": "b628fe63",
   "metadata": {},
   "outputs": [
    {
     "data": {
      "text/plain": [
       "4.112636795374768"
      ]
     },
     "execution_count": 74,
     "metadata": {},
     "output_type": "execute_result"
    }
   ],
   "source": [
    "Low_pop.mean()"
   ]
  },
  {
   "cell_type": "code",
   "execution_count": 75,
   "id": "3ce521e6",
   "metadata": {},
   "outputs": [
    {
     "name": "stdout",
     "output_type": "stream",
     "text": [
      "Ttest_indResult(statistic=14.964803116151753, pvalue=5.051656017485939e-50)\n"
     ]
    }
   ],
   "source": [
    "# we can use the built in function: ttest_ind\n",
    "two_sample_test = stats.ttest_ind(High_pop, Low_pop) \n",
    "\n",
    "print(two_sample_test)"
   ]
  },
  {
   "cell_type": "markdown",
   "id": "d730a16e",
   "metadata": {},
   "source": [
    "In this case, the p-value is very close to zero and both classes are more balanced and closer to what the Central Limit Theorem would suggest. The confidence in these results is higher than in the last case. We reject the null hypotesis that the difference in ratings between the most popular and less popular apps is zero. Intuitively, this makes sense, as the most popular apps would tend to be better rated by the users. "
   ]
  },
  {
   "cell_type": "markdown",
   "id": "ca65dff6",
   "metadata": {},
   "source": [
    "## Is the highest rated category statistically better than the rest?"
   ]
  },
  {
   "cell_type": "code",
   "execution_count": 78,
   "id": "08e34736",
   "metadata": {},
   "outputs": [
    {
     "data": {
      "text/plain": [
       "33"
      ]
     },
     "execution_count": 78,
     "metadata": {},
     "output_type": "execute_result"
    }
   ],
   "source": [
    "## Finding the number of categories\n",
    "df['Category'].nunique()"
   ]
  },
  {
   "cell_type": "code",
   "execution_count": 40,
   "id": "6477707f",
   "metadata": {},
   "outputs": [
    {
     "data": {
      "text/plain": [
       "Category\n",
       "ART_AND_DESIGN         4.358065\n",
       "AUTO_AND_VEHICLES      4.190411\n",
       "BEAUTY                 4.278571\n",
       "BOOKS_AND_REFERENCE    4.347458\n",
       "BUSINESS               4.102593\n",
       "COMICS                 4.155172\n",
       "COMMUNICATION          4.151466\n",
       "DATING                 3.972671\n",
       "EDUCATION              4.375969\n",
       "ENTERTAINMENT          4.136036\n",
       "EVENTS                 4.435556\n",
       "FAMILY                 4.191153\n",
       "FINANCE                4.127445\n",
       "FOOD_AND_DRINK         4.164151\n",
       "GAME                   4.281285\n",
       "HEALTH_AND_FITNESS     4.261450\n",
       "HOUSE_AND_HOME         4.164706\n",
       "LIBRARIES_AND_DEMO     4.178462\n",
       "LIFESTYLE              4.096066\n",
       "MAPS_AND_NAVIGATION    4.051613\n",
       "MEDICAL                4.182450\n",
       "NEWS_AND_MAGAZINES     4.128505\n",
       "PARENTING              4.300000\n",
       "PERSONALIZATION        4.333871\n",
       "PHOTOGRAPHY            4.175410\n",
       "PRODUCTIVITY           4.201796\n",
       "SHOPPING               4.251485\n",
       "SOCIAL                 4.254918\n",
       "SPORTS                 4.225175\n",
       "TOOLS                  4.047411\n",
       "TRAVEL_AND_LOCAL       4.094146\n",
       "VIDEO_PLAYERS          4.063750\n",
       "WEATHER                4.244000\n",
       "Name: Rating, dtype: float64"
      ]
     },
     "execution_count": 40,
     "metadata": {},
     "output_type": "execute_result"
    }
   ],
   "source": [
    "## Finding the means for all categories\n",
    "df.groupby('Category')['Rating'].mean()"
   ]
  },
  {
   "cell_type": "markdown",
   "id": "64bd5851",
   "metadata": {},
   "source": [
    "Events has the highest with 4.43"
   ]
  },
  {
   "cell_type": "code",
   "execution_count": 44,
   "id": "ce440930",
   "metadata": {},
   "outputs": [],
   "source": [
    "## Creating the Events group\n",
    "Events=df[df['Category']=='EVENTS']['Rating']"
   ]
  },
  {
   "cell_type": "code",
   "execution_count": 42,
   "id": "71018d27",
   "metadata": {},
   "outputs": [
    {
     "data": {
      "text/plain": [
       "45"
      ]
     },
     "execution_count": 42,
     "metadata": {},
     "output_type": "execute_result"
    }
   ],
   "source": [
    "## It only has 45 observations \n",
    "Events.count()"
   ]
  },
  {
   "cell_type": "code",
   "execution_count": 79,
   "id": "80ff9f07",
   "metadata": {},
   "outputs": [
    {
     "data": {
      "image/png": "[encoded data removed]",
      "text/plain": [
       "<Figure size 432x288 with 1 Axes>"
      ]
     },
     "metadata": {
      "needs_background": "light"
     },
     "output_type": "display_data"
    }
   ],
   "source": [
    "plt.figure()\n",
    "plt.hist(Events, bins=8)\n",
    "plt.title('Ratings for the Events Category')\n",
    "plt.show;"
   ]
  },
  {
   "cell_type": "code",
   "execution_count": 45,
   "id": "272e91d2",
   "metadata": {},
   "outputs": [],
   "source": [
    "## Creating the not events group\n",
    "Not_events=df[df['Category']!='EVENTS']['Rating']"
   ]
  },
  {
   "cell_type": "code",
   "execution_count": 47,
   "id": "ea356d6e",
   "metadata": {},
   "outputs": [
    {
     "data": {
      "text/plain": [
       "8850"
      ]
     },
     "execution_count": 47,
     "metadata": {},
     "output_type": "execute_result"
    }
   ],
   "source": [
    "## There are 8850 observations in this group. This is very unbalanced. \n",
    "Not_events.count()"
   ]
  },
  {
   "cell_type": "code",
   "execution_count": 49,
   "id": "5f9ee85c",
   "metadata": {},
   "outputs": [
    {
     "data": {
      "text/plain": [
       "4.186327683615807"
      ]
     },
     "execution_count": 49,
     "metadata": {},
     "output_type": "execute_result"
    }
   ],
   "source": [
    "## The mean for non events is nearly the same as the whole sample\n",
    "Not_events.mean()"
   ]
  },
  {
   "cell_type": "markdown",
   "id": "016b7228",
   "metadata": {},
   "source": [
    "**Hypothesis Test:**\n",
    "\n",
    "<center> $H_0$: $\\mu_{Events} = \\mu_{Notevents} $ $\\;\\; vs \\;\\;$  $H_1$: $\\mu_{Events} \\neq \\mu_{Notevents} $ </center>\n",
    "\n",
    "The null hypothesis states that there are no differences in the average rating betweeen apps in the Events category and the rest of the categories.  "
   ]
  },
  {
   "cell_type": "code",
   "execution_count": 80,
   "id": "feb417ed",
   "metadata": {},
   "outputs": [
    {
     "name": "stdout",
     "output_type": "stream",
     "text": [
      "Ttest_indResult(statistic=3.1911213257116016, pvalue=0.0014221437345704156)\n"
     ]
    }
   ],
   "source": [
    "# we can use the built in function: ttest_ind\n",
    "two_sample_test = stats.ttest_ind(Events, Not_events) \n",
    "\n",
    "print(two_sample_test)"
   ]
  },
  {
   "cell_type": "markdown",
   "id": "ea57ea73",
   "metadata": {},
   "source": [
    "Although the p-value is close to zero and the null hypothesis should be rejected, the small number of observations in the Events category challenges the validity of the assumptions for the T-test. "
   ]
  },
  {
   "cell_type": "markdown",
   "id": "31f0168c",
   "metadata": {},
   "source": [
    "## Conclusion"
   ]
  },
  {
   "cell_type": "markdown",
   "id": "86bfc5d4",
   "metadata": {},
   "source": [
    "- Of the three proposed questions, we have more confidence that highly popular apps in terms of installs are beter rated than less popular apps. The T-test point to statistically significant differences in the rartings for the case of paid vs free apps and the best category, Events, versus the rest. Yet the groups are unbalanced. The number of observations in the paid and events groups challenge the assumption that the CLT guarantees the sampling distributions are approximately normal. Hence, more observations would be needed in these two groups to have greater confidence about these results.   "
   ]
  },
  {
   "cell_type": "code",
   "execution_count": null,
   "id": "01dfd870",
   "metadata": {},
   "outputs": [],
   "source": []
  }
 ],
 "metadata": {
  "kernelspec": {
   "display_name": "Python 3",
   "language": "python",
   "name": "python3"
  },
  "language_info": {
   "codemirror_mode": {
    "name": "ipython",
    "version": 3
   },
   "file_extension": ".py",
   "mimetype": "text/x-python",
   "name": "python",
   "nbconvert_exporter": "python",
   "pygments_lexer": "ipython3",
   "version": "3.8.8"
  },
  "toc": {
   "base_numbering": 1,
   "nav_menu": {},
   "number_sections": true,
   "sideBar": true,
   "skip_h1_title": true,
   "title_cell": "Table of Contents",
   "title_sidebar": "Contents",
   "toc_cell": false,
   "toc_position": {},
   "toc_section_display": true,
   "toc_window_display": true
  },
  "varInspector": {
   "cols": {
    "lenName": 16,
    "lenType": 16,
    "lenVar": 40
   },
   "kernels_config": {
    "python": {
     "delete_cmd_postfix": "",
     "delete_cmd_prefix": "del ",
     "library": "var_list.py",
     "varRefreshCmd": "print(var_dic_list())"
    },
    "r": {
     "delete_cmd_postfix": ") ",
     "delete_cmd_prefix": "rm(",
     "library": "var_list.r",
     "varRefreshCmd": "cat(var_dic_list()) "
    }
   },
   "types_to_exclude": [
    "module",
    "function",
    "builtin_function_or_method",
    "instance",
    "_Feature"
   ],
   "window_display": false
  }
 },
 "nbformat": 4,
 "nbformat_minor": 5
}
